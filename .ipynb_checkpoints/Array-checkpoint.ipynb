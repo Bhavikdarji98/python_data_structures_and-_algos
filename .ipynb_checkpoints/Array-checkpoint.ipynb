{
 "cells": [
  {
   "cell_type": "code",
   "execution_count": 1,
   "metadata": {},
   "outputs": [],
   "source": [
    "from array import *\n"
   ]
  },
  {
   "cell_type": "code",
   "execution_count": 11,
   "metadata": {},
   "outputs": [],
   "source": [
    "myarray = array('i',[1,5,3,10,16])"
   ]
  },
  {
   "cell_type": "code",
   "execution_count": 12,
   "metadata": {},
   "outputs": [
    {
     "data": {
      "text/plain": [
       "1"
      ]
     },
     "execution_count": 12,
     "metadata": {},
     "output_type": "execute_result"
    }
   ],
   "source": [
    "myarray[0]"
   ]
  },
  {
   "cell_type": "markdown",
   "metadata": {},
   "source": [
    "# Basic Oprations on DataStructures"
   ]
  },
  {
   "cell_type": "markdown",
   "metadata": {},
   "source": [
    "Traverse − print all the array elements one by one.\n",
    "\n",
    "Insertion − Adds an element at the given index.\n",
    "\n",
    "Deletion − Deletes an element at the given index.\n",
    "\n",
    "Search − Searches an element using the given index or by the value.\n",
    "\n",
    "Update − Updates an element at the given index."
   ]
  },
  {
   "cell_type": "markdown",
   "metadata": {},
   "source": [
    "# syntax of array defination"
   ]
  },
  {
   "cell_type": "markdown",
   "metadata": {},
   "source": [
    "arrayName = array(typecode,[initializers])\n"
   ]
  },
  {
   "cell_type": "markdown",
   "metadata": {},
   "source": [
    "| TypeCode | Value |\n",
    "| --- | --- |\n",
    "| b | Represents signed integer of size 1 byte |\n",
    "| B | Represents unsigned integer of size 1 byte |\n",
    "| c | Represents char of size  byte |\n",
    "| i | Represents signed integer of size 2 bytes |\n",
    "| I | Represents unsigned integer of size 2 bytes |\n",
    "| f | Represents Floating Point of size 4 byte |\n",
    "| d | Represents Floating Point of size 8 byte |"
   ]
  },
  {
   "cell_type": "markdown",
   "metadata": {},
   "source": [
    "# Insertion"
   ]
  },
  {
   "cell_type": "markdown",
   "metadata": {},
   "source": [
    "Insertion in array is done using array's buit in method **insert(new element)**"
   ]
  },
  {
   "cell_type": "code",
   "execution_count": 16,
   "metadata": {},
   "outputs": [
    {
     "data": {
      "text/plain": [
       "10"
      ]
     },
     "execution_count": 16,
     "metadata": {},
     "output_type": "execute_result"
    }
   ],
   "source": [
    "myarray[4]"
   ]
  },
  {
   "cell_type": "code",
   "execution_count": 14,
   "metadata": {},
   "outputs": [],
   "source": [
    "myarray.insert(2,70)"
   ]
  },
  {
   "cell_type": "code",
   "execution_count": 15,
   "metadata": {},
   "outputs": [
    {
     "name": "stdout",
     "output_type": "stream",
     "text": [
      "array('i', [1, 5, 70, 3, 10, 16])\n"
     ]
    }
   ],
   "source": [
    "print(myarray)\n"
   ]
  },
  {
   "cell_type": "markdown",
   "metadata": {},
   "source": [
    "# Deletion "
   ]
  },
  {
   "cell_type": "markdown",
   "metadata": {},
   "source": [
    "Deletion in array is done using array's buit in method **remove(element)**"
   ]
  },
  {
   "cell_type": "code",
   "execution_count": 17,
   "metadata": {},
   "outputs": [],
   "source": [
    "myarray.remove(70)"
   ]
  },
  {
   "cell_type": "code",
   "execution_count": 18,
   "metadata": {},
   "outputs": [
    {
     "data": {
      "text/plain": [
       "array('i', [1, 5, 3, 10, 16])"
      ]
     },
     "execution_count": 18,
     "metadata": {},
     "output_type": "execute_result"
    }
   ],
   "source": [
    "myarray"
   ]
  },
  {
   "cell_type": "code",
   "execution_count": 19,
   "metadata": {},
   "outputs": [],
   "source": [
    "myarray.remove(myarray[2])"
   ]
  },
  {
   "cell_type": "code",
   "execution_count": 20,
   "metadata": {},
   "outputs": [
    {
     "data": {
      "text/plain": [
       "array('i', [1, 5, 10, 16])"
      ]
     },
     "execution_count": 20,
     "metadata": {},
     "output_type": "execute_result"
    }
   ],
   "source": [
    "myarray\n"
   ]
  },
  {
   "cell_type": "markdown",
   "metadata": {},
   "source": [
    "# Updatation"
   ]
  },
  {
   "cell_type": "markdown",
   "metadata": {},
   "source": [
    "Updatation in array is done using just assign new value to the array using its index number"
   ]
  },
  {
   "cell_type": "code",
   "execution_count": 22,
   "metadata": {},
   "outputs": [],
   "source": [
    "myarray[3] = 45"
   ]
  },
  {
   "cell_type": "code",
   "execution_count": 23,
   "metadata": {},
   "outputs": [
    {
     "data": {
      "text/plain": [
       "array('i', [1, 5, 10, 45])"
      ]
     },
     "execution_count": 23,
     "metadata": {},
     "output_type": "execute_result"
    }
   ],
   "source": [
    "myarray"
   ]
  },
  {
   "cell_type": "markdown",
   "metadata": {},
   "source": [
    "# Searching "
   ]
  },
  {
   "cell_type": "markdown",
   "metadata": {},
   "source": [
    "Searching in array is done using array's buit in method **index(element)** and it return the index number of that element"
   ]
  },
  {
   "cell_type": "code",
   "execution_count": 25,
   "metadata": {
    "scrolled": true
   },
   "outputs": [
    {
     "data": {
      "text/plain": [
       "1"
      ]
     },
     "execution_count": 25,
     "metadata": {},
     "output_type": "execute_result"
    }
   ],
   "source": [
    "myarray.index(5)"
   ]
  },
  {
   "cell_type": "markdown",
   "metadata": {},
   "source": [
    "# Two Dimentional Arrays "
   ]
  },
  {
   "cell_type": "code",
   "execution_count": 60,
   "metadata": {},
   "outputs": [],
   "source": [
    "T = [[11, 12, 5, 2], [15, 6,10], [10, 8, 12, 5], [12,15,8,6]]"
   ]
  },
  {
   "cell_type": "code",
   "execution_count": 61,
   "metadata": {},
   "outputs": [
    {
     "data": {
      "text/plain": [
       "2"
      ]
     },
     "execution_count": 61,
     "metadata": {},
     "output_type": "execute_result"
    }
   ],
   "source": [
    "T[0][3]"
   ]
  },
  {
   "cell_type": "markdown",
   "metadata": {},
   "source": [
    "# Printing"
   ]
  },
  {
   "cell_type": "code",
   "execution_count": 47,
   "metadata": {
    "scrolled": true
   },
   "outputs": [
    {
     "name": "stdout",
     "output_type": "stream",
     "text": [
      "11 12 5 2 \n",
      "\n",
      "15 6 10 \n",
      "\n",
      "10 8 12 5 \n",
      "\n",
      "12 15 8 6 \n",
      "\n"
     ]
    }
   ],
   "source": [
    "for r in T:\n",
    "    for v in r:\n",
    "        print(v,end=' ')\n",
    "    print(\"\\n\")    "
   ]
  },
  {
   "cell_type": "markdown",
   "metadata": {},
   "source": [
    "# Insert a new element "
   ]
  },
  {
   "cell_type": "code",
   "execution_count": 48,
   "metadata": {},
   "outputs": [],
   "source": [
    "T.insert(1,[12,22,31,45])"
   ]
  },
  {
   "cell_type": "code",
   "execution_count": 49,
   "metadata": {},
   "outputs": [
    {
     "data": {
      "text/plain": [
       "[[11, 12, 5, 2], [12, 22, 31, 45], [15, 6, 10], [10, 8, 12, 5], [12, 15, 8, 6]]"
      ]
     },
     "execution_count": 49,
     "metadata": {},
     "output_type": "execute_result"
    }
   ],
   "source": [
    "T"
   ]
  },
  {
   "cell_type": "markdown",
   "metadata": {},
   "source": [
    "# Delete an element "
   ]
  },
  {
   "cell_type": "code",
   "execution_count": 50,
   "metadata": {},
   "outputs": [],
   "source": [
    "T.remove([11, 12, 5, 2])"
   ]
  },
  {
   "cell_type": "code",
   "execution_count": 51,
   "metadata": {},
   "outputs": [
    {
     "name": "stdout",
     "output_type": "stream",
     "text": [
      "12 22 31 45 \n",
      "\n",
      "15 6 10 \n",
      "\n",
      "10 8 12 5 \n",
      "\n",
      "12 15 8 6 \n",
      "\n"
     ]
    }
   ],
   "source": [
    "for r in T:\n",
    "    for v in r:\n",
    "        print(v,end=' ')\n",
    "    print(\"\\n\")    "
   ]
  },
  {
   "cell_type": "code",
   "execution_count": 52,
   "metadata": {},
   "outputs": [],
   "source": [
    "del T[0]"
   ]
  },
  {
   "cell_type": "code",
   "execution_count": 53,
   "metadata": {},
   "outputs": [
    {
     "name": "stdout",
     "output_type": "stream",
     "text": [
      "15 6 10 \n",
      "\n",
      "10 8 12 5 \n",
      "\n",
      "12 15 8 6 \n",
      "\n"
     ]
    }
   ],
   "source": [
    "for r in T:\n",
    "    for v in r:\n",
    "        print(v,end=' ')\n",
    "    print(\"\\n\")    "
   ]
  },
  {
   "cell_type": "markdown",
   "metadata": {},
   "source": [
    "# Update an element "
   ]
  },
  {
   "cell_type": "code",
   "execution_count": 54,
   "metadata": {},
   "outputs": [
    {
     "name": "stdout",
     "output_type": "stream",
     "text": [
      "15 6 10 \n",
      "\n",
      "10 8 12 5 \n",
      "\n",
      "12 15 8 6 \n",
      "\n"
     ]
    }
   ],
   "source": [
    "for r in T:\n",
    "    for v in r:\n",
    "        print(v,end=' ')\n",
    "    print(\"\\n\")    "
   ]
  },
  {
   "cell_type": "code",
   "execution_count": 55,
   "metadata": {},
   "outputs": [],
   "source": [
    "T[0][2] = 100"
   ]
  },
  {
   "cell_type": "code",
   "execution_count": 56,
   "metadata": {},
   "outputs": [
    {
     "name": "stdout",
     "output_type": "stream",
     "text": [
      "15 6 100 \n",
      "\n",
      "10 8 12 5 \n",
      "\n",
      "12 15 8 6 \n",
      "\n"
     ]
    }
   ],
   "source": [
    "for r in T:\n",
    "    for v in r:\n",
    "        print(v,end=' ')\n",
    "    print(\"\\n\")    "
   ]
  },
  {
   "cell_type": "code",
   "execution_count": 57,
   "metadata": {},
   "outputs": [],
   "source": [
    "T[1] = [10,20,30,40]"
   ]
  },
  {
   "cell_type": "code",
   "execution_count": 58,
   "metadata": {},
   "outputs": [
    {
     "name": "stdout",
     "output_type": "stream",
     "text": [
      "15 6 100 \n",
      "\n",
      "10 20 30 40 \n",
      "\n",
      "12 15 8 6 \n",
      "\n"
     ]
    }
   ],
   "source": [
    "for r in T:\n",
    "    for v in r:\n",
    "        print(v,end=' ')\n",
    "    print(\"\\n\")    "
   ]
  },
  {
   "cell_type": "markdown",
   "metadata": {},
   "source": [
    "# Matrix "
   ]
  },
  {
   "cell_type": "markdown",
   "metadata": {},
   "source": [
    "Matrix is another datatype in data-structures , in matrix each cell has same amount of memory."
   ]
  },
  {
   "cell_type": "markdown",
   "metadata": {},
   "source": [
    "so every matrix is a two dimentional array but not vice versa"
   ]
  },
  {
   "cell_type": "code",
   "execution_count": 62,
   "metadata": {},
   "outputs": [],
   "source": [
    "import numpy as np"
   ]
  },
  {
   "cell_type": "code",
   "execution_count": 73,
   "metadata": {},
   "outputs": [
    {
     "name": "stdout",
     "output_type": "stream",
     "text": [
      "[['sunday' '10' '11' '15' '23']\n",
      " ['monday' '20' '14' '50' '21']\n",
      " ['tuesday' '10' '11' '15' '23']\n",
      " ['wednesday' '10' '11' '15' '23']\n",
      " ['thursday' '10' '11' '15' '23']\n",
      " ['friday' '10' '11' '15' '23']\n",
      " ['saturday' '10' '11' '15' '23']]\n"
     ]
    }
   ],
   "source": [
    "m = array([['sunday',10,11,15,23],['monday',20,14,50,21],\n",
    "           ['tuesday',10,11,15,23],['wednesday',10,11,15,23],\n",
    "           ['thursday',10,11,15,23],['friday',10,11,15,23],['saturday',10,11,15,23]])\n",
    "x = reshape(m,(7,5))\n",
    "print(x)"
   ]
  },
  {
   "cell_type": "markdown",
   "metadata": {},
   "source": [
    "# Append a new Row"
   ]
  },
  {
   "cell_type": "code",
   "execution_count": 89,
   "metadata": {},
   "outputs": [
    {
     "data": {
      "text/plain": [
       "array([['sunday', '10', '11', '15', '23'],\n",
       "       ['monday', '20', '14', '50', '21'],\n",
       "       ['tuesday', '10', '11', '15', '23'],\n",
       "       ['wednesday', '10', '11', '15', '23'],\n",
       "       ['thursday', '10', '11', '15', '23'],\n",
       "       ['friday', '10', '11', '15', '23'],\n",
       "       ['saturday', '10', '11', '15', '23'],\n",
       "       ['bhavik', '12', '23', '45', '56']], dtype='<U9')"
      ]
     },
     "execution_count": 89,
     "metadata": {},
     "output_type": "execute_result"
    }
   ],
   "source": [
    "np.append(m,[['bhavik',12,23,45,56]],0)"
   ]
  },
  {
   "cell_type": "markdown",
   "metadata": {},
   "source": [
    "# Add a new Column"
   ]
  },
  {
   "cell_type": "code",
   "execution_count": 95,
   "metadata": {},
   "outputs": [
    {
     "data": {
      "text/plain": [
       "array([['sunday', '10', '11', '15', '23', '1'],\n",
       "       ['monday', '20', '14', '50', '21', '2'],\n",
       "       ['tuesday', '10', '11', '15', '23', '3'],\n",
       "       ['wednesday', '10', '11', '15', '23', '4'],\n",
       "       ['thursday', '10', '11', '15', '23', '5'],\n",
       "       ['friday', '10', '11', '15', '23', '6'],\n",
       "       ['saturday', '10', '11', '15', '23', '7']], dtype='<U9')"
      ]
     },
     "execution_count": 95,
     "metadata": {},
     "output_type": "execute_result"
    }
   ],
   "source": [
    "m_c = insert(m,[5],[[1],[2],[3],[4],[5],[6],[7]],1)\n",
    "m_c"
   ]
  },
  {
   "cell_type": "markdown",
   "metadata": {},
   "source": [
    "# Add a new Row"
   ]
  },
  {
   "cell_type": "code",
   "execution_count": 100,
   "metadata": {},
   "outputs": [
    {
     "data": {
      "text/plain": [
       "array([['sunday', '10', '11', '15', '23'],\n",
       "       ['monday', '20', '14', '50', '21'],\n",
       "       ['tuesday', '10', '11', '15', '23'],\n",
       "       ['wednesday', '10', '11', '15', '23'],\n",
       "       ['thursday', '10', '11', '15', '23'],\n",
       "       ['bhavik', '1', '2', '3', '4'],\n",
       "       ['friday', '10', '11', '15', '23'],\n",
       "       ['saturday', '10', '11', '15', '23']], dtype='<U9')"
      ]
     },
     "execution_count": 100,
     "metadata": {},
     "output_type": "execute_result"
    }
   ],
   "source": [
    "m_r = insert(m,[5],['bhavik',1,2,3,4],0)\n",
    "m_r"
   ]
  },
  {
   "cell_type": "markdown",
   "metadata": {},
   "source": [
    "# Delete a row"
   ]
  },
  {
   "cell_type": "code",
   "execution_count": 103,
   "metadata": {},
   "outputs": [
    {
     "data": {
      "text/plain": [
       "array([['sunday', '10', '11', '15', '23'],\n",
       "       ['monday', '20', '14', '50', '21'],\n",
       "       ['tuesday', '10', '11', '15', '23'],\n",
       "       ['wednesday', '10', '11', '15', '23'],\n",
       "       ['thursday', '10', '11', '15', '23'],\n",
       "       ['friday', '10', '11', '15', '23'],\n",
       "       ['saturday', '10', '11', '15', '23']], dtype='<U9')"
      ]
     },
     "execution_count": 103,
     "metadata": {},
     "output_type": "execute_result"
    }
   ],
   "source": [
    "np.delete(m,[2],0)\n",
    "m"
   ]
  },
  {
   "cell_type": "markdown",
   "metadata": {},
   "source": [
    "# Delete a column"
   ]
  },
  {
   "cell_type": "code",
   "execution_count": 111,
   "metadata": {},
   "outputs": [
    {
     "data": {
      "text/plain": [
       "array([['sunday', '10', '15', '23'],\n",
       "       ['monday', '20', '50', '21'],\n",
       "       ['tuesday', '10', '15', '23'],\n",
       "       ['wednesday', '10', '15', '23'],\n",
       "       ['thursday', '10', '15', '23'],\n",
       "       ['friday', '10', '15', '23'],\n",
       "       ['saturday', '10', '15', '23']], dtype='<U9')"
      ]
     },
     "execution_count": 111,
     "metadata": {},
     "output_type": "execute_result"
    }
   ],
   "source": [
    "n = np.delete(m,[2],1)\n",
    "n"
   ]
  },
  {
   "cell_type": "markdown",
   "metadata": {},
   "source": [
    "# Update a row"
   ]
  },
  {
   "cell_type": "code",
   "execution_count": 112,
   "metadata": {},
   "outputs": [
    {
     "data": {
      "text/plain": [
       "array([['sunday', '10', '35', '15', '23'],\n",
       "       ['monday', '20', '14', '50', '21'],\n",
       "       ['tuesday', '10', '11', '15', '23'],\n",
       "       ['wednesday', '10', '11', '15', '23'],\n",
       "       ['thursday', '10', '11', '15', '23'],\n",
       "       ['friday', '10', '11', '15', '23'],\n",
       "       ['saturday', '10', '11', '15', '23']], dtype='<U9')"
      ]
     },
     "execution_count": 112,
     "metadata": {},
     "output_type": "execute_result"
    }
   ],
   "source": [
    "m[0][2] = 35\n",
    "m"
   ]
  },
  {
   "cell_type": "code",
   "execution_count": 114,
   "metadata": {},
   "outputs": [],
   "source": [
    "m[0] = ['sunday',12,22,11,23]"
   ]
  },
  {
   "cell_type": "code",
   "execution_count": 115,
   "metadata": {},
   "outputs": [
    {
     "data": {
      "text/plain": [
       "array([['sunday', '12', '22', '11', '23'],\n",
       "       ['monday', '20', '14', '50', '21'],\n",
       "       ['tuesday', '10', '11', '15', '23'],\n",
       "       ['wednesday', '10', '11', '15', '23'],\n",
       "       ['thursday', '10', '11', '15', '23'],\n",
       "       ['friday', '10', '11', '15', '23'],\n",
       "       ['saturday', '10', '11', '15', '23']], dtype='<U9')"
      ]
     },
     "execution_count": 115,
     "metadata": {},
     "output_type": "execute_result"
    }
   ],
   "source": [
    "m"
   ]
  },
  {
   "cell_type": "markdown",
   "metadata": {},
   "source": [
    "# ChainMap method"
   ]
  },
  {
   "cell_type": "code",
   "execution_count": 116,
   "metadata": {},
   "outputs": [],
   "source": [
    "import collections as c"
   ]
  },
  {
   "cell_type": "code",
   "execution_count": 120,
   "metadata": {},
   "outputs": [],
   "source": [
    "d1 = {\"day1\":\"monday\",\"day2\":\"wednesday\"}\n",
    "d2 = {\"day3\":\"monday\",\"day1\":\"friday\"}"
   ]
  },
  {
   "cell_type": "code",
   "execution_count": 121,
   "metadata": {},
   "outputs": [],
   "source": [
    "result=c.ChainMap(d1,d2)"
   ]
  },
  {
   "cell_type": "code",
   "execution_count": 122,
   "metadata": {},
   "outputs": [
    {
     "data": {
      "text/plain": [
       "ChainMap({'day1': 'monday', 'day2': 'wednesday'}, {'day3': 'monday', 'day1': 'friday'})"
      ]
     },
     "execution_count": 122,
     "metadata": {},
     "output_type": "execute_result"
    }
   ],
   "source": [
    "result"
   ]
  },
  {
   "cell_type": "code",
   "execution_count": 124,
   "metadata": {},
   "outputs": [
    {
     "name": "stdout",
     "output_type": "stream",
     "text": [
      "['_MutableMapping__marker', '__abstractmethods__', '__bool__', '__class__', '__contains__', '__copy__', '__delattr__', '__delitem__', '__dict__', '__dir__', '__doc__', '__eq__', '__format__', '__ge__', '__getattribute__', '__getitem__', '__gt__', '__hash__', '__init__', '__init_subclass__', '__iter__', '__le__', '__len__', '__lt__', '__missing__', '__module__', '__ne__', '__new__', '__reduce__', '__reduce_ex__', '__repr__', '__reversed__', '__setattr__', '__setitem__', '__sizeof__', '__slots__', '__str__', '__subclasshook__', '__weakref__', '_abc_impl', 'clear', 'copy', 'fromkeys', 'get', 'items', 'keys', 'new_child', 'parents', 'pop', 'popitem', 'setdefault', 'update', 'values']\n"
     ]
    }
   ],
   "source": [
    "print(dir(c.ChainMap))"
   ]
  },
  {
   "cell_type": "code",
   "execution_count": 138,
   "metadata": {},
   "outputs": [
    {
     "data": {
      "text/plain": [
       "['day3', 'day1', 'day2']"
      ]
     },
     "execution_count": 138,
     "metadata": {},
     "output_type": "execute_result"
    }
   ],
   "source": [
    "list(result.keys())"
   ]
  },
  {
   "cell_type": "code",
   "execution_count": 127,
   "metadata": {},
   "outputs": [
    {
     "name": "stdout",
     "output_type": "stream",
     "text": [
      "[{'day1': 'monday', 'day2': 'wednesday'}, {'day3': 'monday', 'day1': 'friday'}]\n"
     ]
    }
   ],
   "source": [
    "print(result.maps)"
   ]
  },
  {
   "cell_type": "code",
   "execution_count": 134,
   "metadata": {},
   "outputs": [
    {
     "name": "stdout",
     "output_type": "stream",
     "text": [
      "day3 = monday\n",
      "day1 = monday\n",
      "day2 = wednesday\n"
     ]
    }
   ],
   "source": [
    "for key,val in result.items():\n",
    "    print('{} = {}'.format(key,val))"
   ]
  },
  {
   "cell_type": "code",
   "execution_count": null,
   "metadata": {},
   "outputs": [],
   "source": []
  }
 ],
 "metadata": {
  "kernelspec": {
   "display_name": "Python 3",
   "language": "python",
   "name": "python3"
  },
  "language_info": {
   "codemirror_mode": {
    "name": "ipython",
    "version": 3
   },
   "file_extension": ".py",
   "mimetype": "text/x-python",
   "name": "python",
   "nbconvert_exporter": "python",
   "pygments_lexer": "ipython3",
   "version": "3.7.3"
  }
 },
 "nbformat": 4,
 "nbformat_minor": 2
}
