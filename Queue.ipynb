{
 "cells": [
  {
   "cell_type": "markdown",
   "metadata": {},
   "source": [
    "# Adding Element in Queue DataStructure"
   ]
  },
  {
   "cell_type": "code",
   "execution_count": 4,
   "metadata": {},
   "outputs": [
    {
     "name": "stdout",
     "output_type": "stream",
     "text": [
      "2\n",
      "['Darji', 'Bhavik']\n"
     ]
    }
   ],
   "source": [
    "class MyQueue:\n",
    "    def __init__(self):\n",
    "        self.queue = []\n",
    "    def addItem(self,data):\n",
    "        if data not in self.queue:\n",
    "            self.queue.insert(0,data)\n",
    "            return True\n",
    "        else:\n",
    "            return False\n",
    "    def length(self):\n",
    "        return len(self.queue)\n",
    "\n",
    "queue_obj = MyQueue()\n",
    "queue_obj.addItem(\"Bhavik\")\n",
    "queue_obj.addItem(\"Darji\")\n",
    "queue_obj.addItem(\"Bhavik\")\n",
    "print(queue_obj.length())\n",
    "print(queue_obj.queue)"
   ]
  },
  {
   "cell_type": "markdown",
   "metadata": {},
   "source": [
    "# Removing Element from Queue"
   ]
  },
  {
   "cell_type": "code",
   "execution_count": 9,
   "metadata": {},
   "outputs": [
    {
     "name": "stdout",
     "output_type": "stream",
     "text": [
      "['Software Engineer', 'Darji', 'Bhavik']\n",
      "-After removing Element--\n",
      "2\n",
      "['Software Engineer', 'Darji']\n"
     ]
    }
   ],
   "source": [
    "class MyQueue:\n",
    "    def __init__(self):\n",
    "        self.queue = []\n",
    "    def addItem(self,data):\n",
    "        if data not in self.queue:\n",
    "            self.queue.insert(0,data)\n",
    "            return True\n",
    "        else:\n",
    "            return False\n",
    "    def removeItem(self):\n",
    "        if len(self.queue)>0:\n",
    "            return self.queue.pop()\n",
    "        else:\n",
    "            return \"Queue is Empty\"\n",
    "    def length(self):\n",
    "        return len(self.queue)\n",
    "\n",
    "queue_obj = MyQueue()\n",
    "queue_obj.addItem(\"Bhavik\")\n",
    "queue_obj.addItem(\"Darji\")\n",
    "queue_obj.addItem(\"Software Engineer\")\n",
    "print(queue_obj.queue)\n",
    "print(\"-After removing Element--\")\n",
    "queue_obj.removeItem()\n",
    "print(queue_obj.length())\n",
    "print(queue_obj.queue)"
   ]
  },
  {
   "cell_type": "code",
   "execution_count": null,
   "metadata": {},
   "outputs": [],
   "source": []
  }
 ],
 "metadata": {
  "kernelspec": {
   "display_name": "Python 3",
   "language": "python",
   "name": "python3"
  },
  "language_info": {
   "codemirror_mode": {
    "name": "ipython",
    "version": 3
   },
   "file_extension": ".py",
   "mimetype": "text/x-python",
   "name": "python",
   "nbconvert_exporter": "python",
   "pygments_lexer": "ipython3",
   "version": "3.7.3"
  }
 },
 "nbformat": 4,
 "nbformat_minor": 2
}
